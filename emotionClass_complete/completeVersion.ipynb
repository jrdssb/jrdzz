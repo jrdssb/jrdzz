{
 "cells": [
  {
   "cell_type": "code",
   "execution_count": 3,
   "id": "89d72430-7f04-43c2-8eca-d5a7fa9acadd",
   "metadata": {},
   "outputs": [
    {
     "data": {
      "text/plain": [
       "25000"
      ]
     },
     "execution_count": 3,
     "metadata": {},
     "output_type": "execute_result"
    }
   ],
   "source": [
    "import torch\n",
    "import pandas as pd\n",
    "# 进行csv的生成\n",
    "import random\n",
    "import os\n",
    "from torch.utils.data import Dataset\n",
    "from torch.utils.data import DataLoader\n",
    "import numpy as np\n",
    "import re\n",
    "from transformers import BertForSequenceClassification\n",
    "from transformers import BertTokenizer\n",
    "# from transformers import Trainer\n",
    "from transformers import TrainingArguments\n",
    "from torch.nn.utils.rnn import pad_sequence\n",
    "torch.cuda.set_device(0)\n",
    "\n",
    "#从本地文件提取文件路径(要用/)，标签，保存至info_array数组中，到处为motion.csv文件\n",
    "dataset_dir='./train'\n",
    "dataset_posdir='./train/pos'\n",
    "dataset_negdir='./train/neg'\n",
    "classes=os.listdir(dataset_posdir)\n",
    "\n",
    "info_array=[]\n",
    "col=['index','score','label','filepath']\n",
    "# 设置需要的数据\n",
    "for filename in os.listdir(dataset_posdir):\n",
    "    filepath=dataset_posdir+'/'+filename\n",
    "    filename_without_extension = os.path.splitext(os.path.basename(filepath))[0]\n",
    "    split_name=filename_without_extension.split('_')\n",
    "    index=split_name[0]\n",
    "    score=split_name[1]\n",
    "    # label='pos'\n",
    "    label=1\n",
    "    info_array.append([index,score,label,filepath])\n",
    "for filename in os.listdir(dataset_negdir):\n",
    "    filepath=dataset_negdir+'/'+filename\n",
    "    filename_without_extension = os.path.splitext(os.path.basename(filepath))[0]\n",
    "    split_name=filename_without_extension.split('_')\n",
    "    index=split_name[0]\n",
    "    score=split_name[1]\n",
    "    # label='neg'\n",
    "    label=0\n",
    "    info_array.append([index,score,label,filepath])\n",
    "    \n",
    "tokenizer = BertTokenizer.from_pretrained('bert-base-uncased')\n",
    "\n",
    "numpy_info_array = np.array(info_array)  \n",
    "df=pd.DataFrame(numpy_info_array,columns=col)\n",
    "df.to_csv('./motion.csv',encoding='utf-8')\n",
    "\n",
    "# 重写dataset数据集部分，定义数据格式\n",
    "class motionDataset(Dataset):\n",
    "    def __init__(self,dataset_dir,csv_path):\n",
    "        self.csv_path=csv_path\n",
    "        self.df=pd.read_csv(self.csv_path,encoding='utf-8')\n",
    "    def __len__(self):\n",
    "        return len(self.df)\n",
    "    def __getitem__(self,idx):\n",
    "        # 获取目标文本\n",
    "        # memo_content储存一个文件中的文本，保存数据类型是字符串，做了去除除单词符号外元素的处理\n",
    "        if idx >= len(self.df):\n",
    "            raise IndexError(\"Index out of range.\")\n",
    "        memo_filepath=self.df['filepath'][idx]\n",
    "        with open(memo_filepath,'r',encoding='utf-8')as f:\n",
    "            memo_content=f.read()\n",
    "        memo_content=re.sub(r'[^\\w\\s]', '', memo_content)  \n",
    "        \n",
    "        encoding = tokenizer.encode_plus(\n",
    "            memo_content,\n",
    "            add_special_tokens=True,\n",
    "            max_length=500,\n",
    "            return_tensors='pt',\n",
    "            padding='max_length',\n",
    "            truncation=True\n",
    "        )\n",
    "        \n",
    "        input_ids = encoding['input_ids']\n",
    "        attention_mask = encoding['attention_mask']\n",
    "        token_type_ids = encoding['token_type_ids']\n",
    "\n",
    "        # 将类别保存为y_train，数据类型为字符串\n",
    "        y_train = self.df['label'][idx]\n",
    "        \n",
    "        return {'input_ids': input_ids, 'attention_mask': attention_mask, 'token_type_ids': token_type_ids, 'label': y_train}\n",
    "train_ds=motionDataset('./train','./motion.csv')\n",
    "len(train_ds)"
   ]
  },
  {
   "cell_type": "code",
   "execution_count": 4,
   "id": "51ce4338-0723-485d-9130-24e0895ab815",
   "metadata": {},
   "outputs": [
    {
     "name": "stdout",
     "output_type": "stream",
     "text": [
      "20000 5000\n"
     ]
    }
   ],
   "source": [
    "# 对训练集做分割处理，便于后续训练测试   random_split\n",
    "from torch.utils.data import random_split\n",
    "num_sample=len(train_ds)\n",
    "train_percent=0.8\n",
    "train_num=int(train_percent*num_sample)\n",
    "test_num=num_sample-train_num\n",
    "train_ds1,train_ds2=random_split(train_ds,[train_num,test_num])\n",
    "print(len(train_ds1),len(train_ds2))\n",
    "\n",
    "# 批处理函数，由于各个文本长不同，分别使用0进行填充，同时label转换成tensor类型数据\n",
    "def collate_fn(data):\n",
    "    # 按input_ids长度进行降序排序，提高填充效率\n",
    "    data.sort(key=lambda x: len(x['input_ids']), reverse=True)\n",
    "\n",
    "    max_length = 500  # 设置一个最大长度，根据模型的最大长度进行调整，同时把数据处理成模型需要数据的形状\n",
    "\n",
    "    input_ids = [item['input_ids'][:, :max_length] for item in data]  # 截断或填充到相同的长度\n",
    "    attention_mask = [item['attention_mask'][:, :max_length] for item in data]\n",
    "    token_type_ids = [item['token_type_ids'][:, :max_length] for item in data] \n",
    "    labels = [item['label'] for item in data]\n",
    "\n",
    "    # Pad sequences after sorting   batch_first表示张量输出维度是第一个维度   padding_value表示用0填充     squeeze表示去除不需要的维度\n",
    "    padded_input_ids = pad_sequence(input_ids, batch_first=True, padding_value=0).squeeze(1)\n",
    "    padded_attention_mask = pad_sequence(attention_mask, batch_first=True, padding_value=0).squeeze(1)\n",
    "    padded_token_type_ids = pad_sequence(token_type_ids, batch_first=True, padding_value=0).squeeze(1)\n",
    "\n",
    "    # Convert labels to one-dimensional tensor，后续模型需要long类型的数据，将label转化为long的tensor\n",
    "    labels = torch.tensor(labels, dtype=torch.long)\n",
    "\n",
    "    # return {'input_ids': padded_input_ids, 'attention_mask': padded_attention_mask,\n",
    "    #         'token_type_ids': padded_token_type_ids, 'label': labels}   要直接返回新数据名称\n",
    "    return padded_input_ids, padded_attention_mask, padded_token_type_ids, labels      \n",
    "    \n",
    "# 重写dataloader，定义批次大小，collate_fn函数，打乱\n",
    "train1_dataloader=DataLoader(train_ds1,batch_size=16,shuffle=True,collate_fn=collate_fn)\n",
    "train2_dataloader=DataLoader(train_ds2,batch_size=16,shuffle=True,collate_fn=collate_fn)\n",
    "\n",
    "# def collate_fn(data):"
   ]
  },
  {
   "cell_type": "code",
   "execution_count": 5,
   "id": "857d4dea-eae3-4307-923c-efadbd2ba5bc",
   "metadata": {},
   "outputs": [],
   "source": [
    "# 加载字典和分词工具\n",
    "from transformers import BertModel\n",
    "\n",
    "#加载预训练模型，迁移学习，使用一个在大规模文本数据上预训练的模型\n",
    "pretrained = BertModel.from_pretrained('bert-base-uncased').to(\"cuda:0\")"
   ]
  },
  {
   "cell_type": "code",
   "execution_count": 6,
   "id": "5e5f7e48-0e35-4625-bbf7-2e8e00468f29",
   "metadata": {},
   "outputs": [],
   "source": [
    "#定义下游任务模型\n",
    "class Model(torch.nn.Module):\n",
    "    def __init__(self,pretrained):\n",
    "        # 这里要把pretrained嵌入\n",
    "        super().__init__()\n",
    "        self.fc = torch.nn.Linear(768, 2)\n",
    "        # fc:输出层，第一个参数为全连接层的输入，第二个参数时表明输出为两个分类，该函数让模型\n",
    "\n",
    "    def forward(self, input_ids, attention_mask, token_type_ids):\n",
    "        with torch.no_grad():\n",
    "            out = pretrained(input_ids=input_ids,\n",
    "                        attention_mask=attention_mask,\n",
    "                        token_type_ids=token_type_ids)\n",
    "            # 用训练模型做计算，将抽取的特征放到全连接神经网络中\n",
    "\n",
    "        out = self.fc(out.last_hidden_state[:, 0])\n",
    "        # 取零和bert设计有关\n",
    "\n",
    "        out = out.softmax(dim=1)\n",
    "\n",
    "        return out\n",
    "\n",
    "\n",
    "model = Model(pretrained)\n",
    "if torch.cuda.is_available():\n",
    "    model = model.to(\"cuda:0\")\n",
    "for param in pretrained.parameters():\n",
    "    param.requires_grad_(False)\n",
    "# 遍历所有model中的所有参数"
   ]
  },
  {
   "cell_type": "code",
   "execution_count": 7,
   "id": "9c48401d-c203-455b-a035-77d1c9871b31",
   "metadata": {},
   "outputs": [
    {
     "name": "stderr",
     "output_type": "stream",
     "text": [
      "D:\\miniconda\\Lib\\site-packages\\transformers\\optimization.py:411: FutureWarning: This implementation of AdamW is deprecated and will be removed in a future version. Use the PyTorch implementation torch.optim.AdamW instead, or set `no_deprecation_warning=True` to disable this warning\n",
      "  warnings.warn(\n"
     ]
    },
    {
     "name": "stdout",
     "output_type": "stream",
     "text": [
      "1\n",
      "0.78075 0.035166783376038076\n"
     ]
    }
   ],
   "source": [
    "from transformers import AdamW\n",
    "torch.cuda.set_device(\"cuda:0\")\n",
    "#训练\n",
    "optimizer = AdamW(model.parameters(), lr=0.0003)\n",
    "# 交叉熵计算损失，做梯度下降处理\n",
    "criterion = torch.nn.CrossEntropyLoss().to(\"cuda:0\")\n",
    "model.train()\n",
    "num_epochs = 1\n",
    "\n",
    "for epoch in range(num_epochs):\n",
    "    print(epoch+1)\n",
    "    correct=0\n",
    "    totalLoss=0\n",
    "    total=0\n",
    "    for i, (input_ids, attention_mask, token_type_ids, labels) in enumerate(train1_dataloader):\n",
    "        input_ids=input_ids.to(\"cuda:0\")   \n",
    "        attention_mask=attention_mask.to(\"cuda:0\")   \n",
    "        token_type_ids=token_type_ids.to(\"cuda:0\")   \n",
    "        labels=labels.to(\"cuda:0\")\n",
    "        out = model(input_ids=input_ids,\n",
    "                    attention_mask=attention_mask,\n",
    "                    token_type_ids=token_type_ids)   \n",
    "        optimizer.zero_grad()\n",
    "        loss = criterion(out, labels)\n",
    "        loss.backward()\n",
    "        optimizer.step()\n",
    "\n",
    "        out = out.argmax(dim=1) \n",
    "        total+=len(labels)\n",
    "        correct+=(out == labels).sum().item()\n",
    "        totalLoss+=loss.item()\n",
    "        # if i % 10 == 0:\n",
    "        #     out = out.argmax(dim=1) \n",
    "        #     # 获取out输出张量中沿第一个维度找到每行中的最大值的索引\n",
    "        #     accuracy = (out == labels).sum().item() / len(labels)\n",
    "\n",
    "        # if i == 1200:\n",
    "        #     print(loss.item(), accuracy)\n",
    "    print(correct/total,totalLoss/total)"
   ]
  },
  {
   "cell_type": "code",
   "execution_count": 8,
   "id": "4f91b532-0781-458a-a003-873dbb1eb6a4",
   "metadata": {},
   "outputs": [
    {
     "data": {
      "text/plain": [
       "25000"
      ]
     },
     "execution_count": 8,
     "metadata": {},
     "output_type": "execute_result"
    }
   ],
   "source": [
    "dataset_dir1='./test'\n",
    "dataset_posdir1='./train/pos'\n",
    "dataset_negdir1='./train/neg'\n",
    "classes=os.listdir(dataset_posdir1)\n",
    "\n",
    "info_array1=[]\n",
    "col1=['index','score','label','filepath']\n",
    "\n",
    "for filename in os.listdir(dataset_posdir1):\n",
    "    filepath=dataset_posdir1+'/'+filename\n",
    "    filename_without_extension = os.path.splitext(os.path.basename(filepath))[0]\n",
    "    split_name=filename_without_extension.split('_')\n",
    "    index=split_name[0]\n",
    "    score=split_name[1]\n",
    "    # label='pos'\n",
    "    label=1\n",
    "    info_array1.append([index,score,label,filepath])\n",
    "for filename in os.listdir(dataset_negdir1):\n",
    "    filepath=dataset_negdir1+'/'+filename\n",
    "    filename_without_extension = os.path.splitext(os.path.basename(filepath))[0]\n",
    "    split_name=filename_without_extension.split('_')\n",
    "    index=split_name[0]\n",
    "    score=split_name[1]\n",
    "    # label='neg'\n",
    "    label=0\n",
    "    info_array1.append([index,score,label,filepath])\n",
    "\n",
    "numpy_info_array1 = np.array(info_array1)  \n",
    "df=pd.DataFrame(numpy_info_array1,columns=col1)\n",
    "df.to_csv('./emotion_test.csv',encoding='utf-8')\n",
    "\n",
    "test_ds=motionDataset('./test','./emotion_test.csv')\n",
    "\n",
    "len(test_ds)"
   ]
  },
  {
   "cell_type": "code",
   "execution_count": 9,
   "id": "2ab5dbac-1530-4acb-be2c-f7fb3ab5d99d",
   "metadata": {},
   "outputs": [
    {
     "name": "stdout",
     "output_type": "stream",
     "text": [
      "20424 25000 0.81696\n"
     ]
    }
   ],
   "source": [
    "test_dataloader=DataLoader(test_ds,batch_size=16,shuffle=True,collate_fn=collate_fn)\n",
    "import numpy as np\n",
    "pred_array = np.array([])\n",
    "cor_array = np.array([])\n",
    "out_list=[]\n",
    "\n",
    "def test():\n",
    "    model.eval()\n",
    "    correct = 0\n",
    "    total = 0\n",
    "    global cor_array  # 将cor_array声明为全局变量\n",
    "    global pred_array  # 将pred_array声明为全局变量\n",
    "    for i, (input_ids, attention_mask, token_type_ids,\n",
    "            labels) in enumerate(test_dataloader):\n",
    "        \n",
    "        with torch.no_grad():\n",
    "            input_ids=input_ids.to(\"cuda:0\")   \n",
    "            attention_mask=attention_mask.to(\"cuda:0\")   \n",
    "            token_type_ids=token_type_ids.to(\"cuda:0\")   \n",
    "            labels=labels.to(\"cuda:0\")\n",
    "            out = model(input_ids=input_ids,\n",
    "                        attention_mask=attention_mask,\n",
    "                        token_type_ids=token_type_ids)\n",
    "\n",
    "        out_list.append(out)\n",
    "        out = out.argmax(dim=1)\n",
    "        correct += (out == labels).sum().item()\n",
    "        total += len(labels)\n",
    "        cor_array = np.append(cor_array, labels.cpu().numpy())\n",
    "        pred_array = np.append(pred_array, out.cpu().numpy())\n",
    "\n",
    "    print(correct,total,correct / total)\n",
    "test()"
   ]
  },
  {
   "cell_type": "code",
   "execution_count": 15,
   "id": "e94c3522-c3c3-42de-9d66-af932364a3da",
   "metadata": {},
   "outputs": [
    {
     "name": "stdout",
     "output_type": "stream",
     "text": [
      "[[0.24311863 0.7568814 ]\n",
      " [0.14360818 0.85639185]\n",
      " [0.01187765 0.9881223 ]\n",
      " ...\n",
      " [0.6415671  0.35843286]\n",
      " [0.28577268 0.71422726]\n",
      " [0.9663688  0.03363118]]\n"
     ]
    }
   ],
   "source": [
    "score = np.concatenate([tensor.cpu().numpy() for tensor in out_list], axis=0)\n",
    "print(score)"
   ]
  },
  {
   "cell_type": "code",
   "execution_count": 16,
   "id": "e871af80-b0b8-439c-8680-c8d6ef107734",
   "metadata": {},
   "outputs": [
    {
     "name": "stdout",
     "output_type": "stream",
     "text": [
      "精度:  0.81696   查准率P:  0.8266820580474934   召回率:  0.81696\n"
     ]
    }
   ],
   "source": [
    "from sklearn.metrics import * \n",
    "import matplotlib.pyplot as plt\n",
    "import numpy as np\n",
    "from sklearn.preprocessing import binarize\n",
    "import pandas as pd\n",
    "\n",
    "accuracy = accuracy_score(cor_array, pred_array)\n",
    "precision = precision_score(cor_array, pred_array, labels=None)\n",
    "recall = recall_score(cor_array, pred_array, average='macro')\n",
    "print(\"精度: \",accuracy,\"  查准率P: \",precision,\"  召回率: \",recall) "
   ]
  },
  {
   "cell_type": "code",
   "execution_count": 42,
   "id": "bedd29f9-f8a6-48da-9842-f52dddf6967f",
   "metadata": {},
   "outputs": [],
   "source": [
    "fpr = dict()\n",
    "tpr = dict()\n",
    "roc_auc = dict()\n",
    "# 计算fpr，tpr，用正样本概率作为阈值\n",
    "fpr, tpr, _ = roc_curve(cor_array, score[:, 1])\n",
    "roc_auc = auc(fpr, tpr)"
   ]
  },
  {
   "cell_type": "code",
   "execution_count": 43,
   "id": "2b476e9e-59ae-407a-8f2b-dab2e25c512a",
   "metadata": {},
   "outputs": [
    {
     "name": "stdout",
     "output_type": "stream",
     "text": [
      "[0.      0.      0.      ... 0.98688 0.98688 1.     ]\n"
     ]
    }
   ],
   "source": [
    "print(fpr)"
   ]
  },
  {
   "cell_type": "code",
   "execution_count": 44,
   "id": "347104a9-eb38-425c-b84d-4ae35b9abffe",
   "metadata": {
    "scrolled": true
   },
   "outputs": [
    {
     "data": {
      "image/png": "[encoded data removed]",
      "text/plain": [
       "<Figure size 640x480 with 1 Axes>"
      ]
     },
     "metadata": {},
     "output_type": "display_data"
    }
   ],
   "source": [
    "# line width设置曲线宽度\n",
    "lw = 2\n",
    "\n",
    "# 创建一个新的图像\n",
    "plt.figure()\n",
    "\n",
    "# 绘制宏平均 ROC 曲线以及每个类别的 ROC 曲线\n",
    "# 宏观平均（macro-average），计算所有真阳率和假阳率的平均值得到总体性能指标\n",
    "# label语句参数，用来设置图例，显示的文本信息{0:0.2f} 是一个格式化字符串，用于将 roc_auc[\"macro\"] 的值插入到字符串中，并保留两位小数\n",
    "# 参数：fpr，tpr\n",
    "plt.plot(fpr, tpr,color='navy', linestyle=':', linewidth=4, label='ROC')\n",
    "\n",
    "plt.plot([0, 1], [0, 1], 'k--', lw=lw)\n",
    "\n",
    "# 设置xy轴的范围\n",
    "plt.xlim([0.0, 1.0])\n",
    "plt.ylim([0.0, 1.05])\n",
    "\n",
    "# 设置xy轴的标签\n",
    "plt.xlabel('False Positive Rate')\n",
    "plt.ylabel('True Positive Rate')\n",
    "\n",
    "# 设置标题\n",
    "plt.title('Multi-class receiver operating characteristic ')\n",
    "\n",
    "# 增加图例\n",
    "plt.legend(loc=\"lower right\")\n",
    "plt.show()"
   ]
  },
  {
   "cell_type": "code",
   "execution_count": 45,
   "id": "cdca3b62-0641-4025-b825-1545e9ec6856",
   "metadata": {},
   "outputs": [
    {
     "name": "stdout",
     "output_type": "stream",
     "text": [
      "该模型的auc大小为:0.896944\n"
     ]
    }
   ],
   "source": [
    "print(f\"该模型的auc大小为:{roc_auc:2f}\")"
   ]
  }
 ],
 "metadata": {
  "kernelspec": {
   "display_name": "Python 3 (ipykernel)",
   "language": "python",
   "name": "python3"
  },
  "language_info": {
   "codemirror_mode": {
    "name": "ipython",
    "version": 3
   },
   "file_extension": ".py",
   "mimetype": "text/x-python",
   "name": "python",
   "nbconvert_exporter": "python",
   "pygments_lexer": "ipython3",
   "version": "3.11.5"
  }
 },
 "nbformat": 4,
 "nbformat_minor": 5
}
